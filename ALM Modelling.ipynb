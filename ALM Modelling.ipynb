{
 "cells": [
  {
   "cell_type": "markdown",
   "metadata": {},
   "source": [
    "# ALM Example\n",
    "### Duration and Interest Rate Sensitivity\n",
    "### Interview with Mr Akshat Mittal\n",
    "Date 26 March 2019, by Kshitiz Sharma"
   ]
  },
  {
   "cell_type": "markdown",
   "metadata": {},
   "source": [
    "## <font color='Blue'>Example 1 : How duration matters</font>"
   ]
  },
  {
   "cell_type": "code",
   "execution_count": 61,
   "metadata": {},
   "outputs": [
    {
     "name": "stdout",
     "output_type": "stream",
     "text": [
      "Banks A\n",
      "Assets: $ 800 Million Dollars\n",
      "Liability: $ 600 Million Dollars\n",
      "Origianl Capital: $ 200 Million Dollars\n",
      "Weigted Average Duration for Assets: 6 %\n",
      "Weigted Average Duration for Liability: 3 %\n",
      "Maturity Mismatch implied by duration: 3 Years\n"
     ]
    }
   ],
   "source": [
    "'''\n",
    "Created on Sat Mar 23 10:10:09 2019\n",
    "@author: kshitizsharma\n",
    "'''\n",
    "# Values Declaration\n",
    "# All amounts are in Million Dollar\n",
    "# Bank A has following on their balance sheets \n",
    "Asset_A = 800\n",
    "Liability_A = 600\n",
    "# Duration (interest rate sensitivity)\n",
    "Asset_Duration_A = 6\n",
    "Liability_Duration_A = 3\n",
    "# Maturity Mismatch in years\n",
    "Maturity_Mismatch = 3\n",
    "\n",
    "Original_Capital = Asset_A - Liability_A\n",
    "print(\"Banks A\")\n",
    "print(\"Assets: $\",Asset_A, \"Million Dollars\")\n",
    "print(\"Liability: $\",Liability_A, \"Million Dollars\")\n",
    "print(\"Origianl Capital: $\",Original_Capital, \"Million Dollars\")\n",
    "print(\"Weigted Average Duration for Assets:\",Asset_Duration_A,\"%\")\n",
    "print(\"Weigted Average Duration for Liability:\",Liability_Duration_A,\"%\")\n",
    "print(\"Maturity Mismatch implied by duration:\",Maturity_Mismatch,\"Years\")"
   ]
  },
  {
   "cell_type": "code",
   "execution_count": 34,
   "metadata": {},
   "outputs": [
    {
     "name": "stdout",
     "output_type": "stream",
     "text": [
      "CAR: 25.0 %\n"
     ]
    }
   ],
   "source": [
    "# CAR(Capital Adequate ratio)\n",
    "# Capital Adequacy Ratio is also known as Capital to Risk Assets Ratio, is the ratio of a bank's capital to its risk. \n",
    "CAR=Original_Capital/Asset_A*100\n",
    "print(\"CAR:\",CAR,\"%\")"
   ]
  },
  {
   "cell_type": "markdown",
   "metadata": {},
   "source": [
    "#### <font color='Red'> Case A :</font> Because of a drastic event, interest rate changed by -7% for both asset and liablitities "
   ]
  },
  {
   "cell_type": "code",
   "execution_count": 54,
   "metadata": {},
   "outputs": [
    {
     "data": {
      "text/html": [
       "<table>\n",
       "<tbody>\n",
       "<tr><td>                       </td><td>         </td><td>Asset</td><td>Liablities</td><td>Equity</td></tr>\n",
       "<tr><td>Original Position      </td><td>A        </td><td>800  </td><td>600       </td><td>200   </td></tr>\n",
       "<tr><td>Duration               </td><td>B        </td><td>6    </td><td>3         </td><td>      </td></tr>\n",
       "<tr><td>Change in interest rate</td><td>C        </td><td>7    </td><td>7         </td><td>      </td></tr>\n",
       "<tr><td>% Decrease in value    </td><td>D=B*C    </td><td>42   </td><td>21        </td><td>      </td></tr>\n",
       "<tr><td>Revised Position       </td><td>E=[1-D]*A</td><td>464.0</td><td>474.0     </td><td>-10.0 </td></tr>\n",
       "</tbody>\n",
       "</table>"
      ],
      "text/plain": [
       "<IPython.core.display.HTML object>"
      ]
     },
     "metadata": {},
     "output_type": "display_data"
    }
   ],
   "source": [
    "# Impact on asset and liablitiy will be as follows \n",
    "IR_Change=7\n",
    "\n",
    "DAsset=IR_Change*Asset_Duration_A\n",
    "DLiability=IR_Change*Liability_Duration_A\n",
    "RevisiedAsset=round((1-DAsset/100)*Asset_A,2)\n",
    "RevisiedLiability=round((1-DLiability/100)*Liability_A,2)\n",
    "\n",
    "from IPython.display import HTML, display\n",
    "import tabulate\n",
    "table = [[\" \",\"\",\"Asset\",\"Liablities\",\"Equity\"],\n",
    "         [\"Original Position\",\"A\",Asset_A,Liability_A,Original_Capital],\n",
    "         [\"Duration\",\"B\",Asset_Duration_A,Liability_Duration_A,\"\"],\n",
    "        [\"Change in interest rate\",\"C\",IR_Change,IR_Change],\n",
    "        [\"% Decrease in value\",\"D=B*C\",DAsset,DLiability],\n",
    "        [\"Revised Position\",\"E=[1-D]*A\",RevisiedAsset,RevisiedLiability,RevisiedAsset-RevisiedLiability]]\n",
    "\n",
    "\n",
    "display(HTML(tabulate.tabulate(table, tablefmt='html')))"
   ]
  },
  {
   "cell_type": "markdown",
   "metadata": {},
   "source": [
    "#### Reasoning: CAR and Bank Capital were quite good before a 7% shock in interest rate. The change left us with 10% less capital with bank. Assetss fell by 42% while liablities only by 21%, all because of duration \n",
    "\n",
    "#### <font color='Red'> Case B :</font> Because of a drastic event, interest rate changed by +3% for both asset and liablitities "
   ]
  },
  {
   "cell_type": "code",
   "execution_count": 59,
   "metadata": {},
   "outputs": [
    {
     "data": {
      "text/html": [
       "<table>\n",
       "<tbody>\n",
       "<tr><td>                       </td><td>         </td><td>Asset</td><td>Liablities</td><td>Equity</td></tr>\n",
       "<tr><td>Original Position      </td><td>A        </td><td>800  </td><td>600       </td><td>200   </td></tr>\n",
       "<tr><td>Duration               </td><td>B        </td><td>6    </td><td>3         </td><td>      </td></tr>\n",
       "<tr><td>Change in interest rate</td><td>C        </td><td>3    </td><td>3         </td><td>      </td></tr>\n",
       "<tr><td>% Increase in value    </td><td>D=B*C    </td><td>18   </td><td>9         </td><td>      </td></tr>\n",
       "<tr><td>Revised Position       </td><td>E=[1+D]*A</td><td>944.0</td><td>654.0     </td><td>290.0 </td></tr>\n",
       "</tbody>\n",
       "</table>"
      ],
      "text/plain": [
       "<IPython.core.display.HTML object>"
      ]
     },
     "metadata": {},
     "output_type": "display_data"
    }
   ],
   "source": [
    "IR_Change=3\n",
    "\n",
    "DAsset=IR_Change*Asset_Duration_A\n",
    "DLiability=IR_Change*Liability_Duration_A\n",
    "RevisiedAsset=round((1+DAsset/100)*Asset_A,2)\n",
    "RevisiedLiability=round((1+DLiability/100)*Liability_A,2)\n",
    "\n",
    "from IPython.display import HTML, display\n",
    "import tabulate\n",
    "table = [[\" \",\"\",\"Asset\",\"Liablities\",\"Equity\"],\n",
    "         [\"Original Position\",\"A\",Asset_A,Liability_A,Original_Capital],\n",
    "         [\"Duration\",\"B\",Asset_Duration_A,Liability_Duration_A,\"\"],\n",
    "        [\"Change in interest rate\",\"C\",IR_Change,IR_Change],\n",
    "        [\"% Increase in value\",\"D=B*C\",DAsset,DLiability],\n",
    "        [\"Revised Position\",\"E=[1+D]*A\",RevisiedAsset,RevisiedLiability,RevisiedAsset-RevisiedLiability]]\n",
    "\n",
    "display(HTML(tabulate.tabulate(table, tablefmt='html')))"
   ]
  },
  {
   "cell_type": "markdown",
   "metadata": {},
   "source": [
    "## <font color='Blue'>Example 2 : NII (Net Interest Income)</font>"
   ]
  },
  {
   "cell_type": "code",
   "execution_count": 99,
   "metadata": {},
   "outputs": [],
   "source": [
    "# Bank A\n",
    "\n",
    "Asset = 2000\n",
    "Liabilities = 1550\n",
    "Equity = Asset - Liabilities\n"
   ]
  },
  {
   "cell_type": "markdown",
   "metadata": {},
   "source": [
    "### Because of recent change in interest rate. Bank A is interested in finding out the impact of interest rate change on earnings\n",
    "### Net Interest Income"
   ]
  },
  {
   "cell_type": "code",
   "execution_count": 155,
   "metadata": {},
   "outputs": [],
   "source": [
    "# Breaking the asset and liabilities into 2 buckets. \n",
    "def NII_function(Asset_Returns,Liabilities_Cost):\n",
    "    Liabilities_1=1250\n",
    "    Liabilities_2=300\n",
    "\n",
    "    Rate_sensitive_gap1=Asset/2-Liabilities_1\n",
    "    Rate_sensitive_gap2=Asset/2-Liabilities_2\n",
    "\n",
    "    table = [[\"\",\"Total\",\"0-6 months\",'6-12 months'],\n",
    "             [\"Assets\",Asset,Asset/2,Asset/2],\n",
    "             [\"Liabilities\",Liabilities,Liabilities_1,Liabilities_2],\n",
    "             [\"Equity/Gap\",Equity,Rate_sensitive_gap1,Rate_sensitive_gap2]]\n",
    "\n",
    "    display(HTML(tabulate.tabulate(table, tablefmt='html')))\n",
    "\n",
    "    table = [[\"Base\",\"Interest(p.a)\"],\n",
    "             [\"Assets\",Asset_Returns],\n",
    "             [\"Liabilities\",Liabilities_Cost]]\n",
    "\n",
    "    display(HTML(tabulate.tabulate(table, tablefmt='html')))\n",
    "\n",
    "    InterestIncome6=2*Asset/2*Asset_Returns/200\n",
    "    InterestExpense6=2*Liabilities_1*Liabilities_Cost/200\n",
    "\n",
    "    InterestIncome1year=Asset/2*Asset_Returns/100\n",
    "    InterestExpense1year=Liabilities_2*Liabilities_Cost/100\n",
    "\n",
    "    InterestIncomeTotal=InterestIncome6+InterestIncome1year\n",
    "    InterestexpenseTotal=InterestExpense6+InterestExpense1year\n",
    "\n",
    "    table = [[\"\",\"Total\",\"6 months\",\"1 Year\"],\n",
    "        [\"Interest Income\",InterestIncomeTotal,InterestIncome6,InterestIncome1year],\n",
    "            [\"Interest Expense\",InterestexpenseTotal,InterestExpense6,InterestExpense1year],\n",
    "            [\"Net Interest Income/Margin\",\n",
    "             InterestIncomeTotal-InterestexpenseTotal,\n",
    "             InterestIncome6-InterestExpense6,\n",
    "            InterestIncome1year-InterestExpense1year]]\n",
    "\n",
    "    display(HTML(tabulate.tabulate(table, tablefmt='html')))\n"
   ]
  },
  {
   "cell_type": "markdown",
   "metadata": {},
   "source": [
    "### Calculating NII bank will earn for full year."
   ]
  },
  {
   "cell_type": "code",
   "execution_count": 108,
   "metadata": {},
   "outputs": [
    {
     "data": {
      "text/html": [
       "<table>\n",
       "<tbody>\n",
       "<tr><td>           </td><td>Total</td><td>0-6 months</td><td>6-12 months</td></tr>\n",
       "<tr><td>Assets     </td><td>2000 </td><td>1000.0    </td><td>1000.0     </td></tr>\n",
       "<tr><td>Liabilities</td><td>1550 </td><td>1250      </td><td>300        </td></tr>\n",
       "<tr><td>Equity/Gap </td><td>450  </td><td>-250.0    </td><td>700.0      </td></tr>\n",
       "</tbody>\n",
       "</table>"
      ],
      "text/plain": [
       "<IPython.core.display.HTML object>"
      ]
     },
     "metadata": {},
     "output_type": "display_data"
    },
    {
     "data": {
      "text/html": [
       "<table>\n",
       "<tbody>\n",
       "<tr><td>Base       </td><td>Interest(p.a)</td></tr>\n",
       "<tr><td>Assets     </td><td>11           </td></tr>\n",
       "<tr><td>Liabilities</td><td>6            </td></tr>\n",
       "</tbody>\n",
       "</table>"
      ],
      "text/plain": [
       "<IPython.core.display.HTML object>"
      ]
     },
     "metadata": {},
     "output_type": "display_data"
    },
    {
     "data": {
      "text/html": [
       "<table>\n",
       "<tbody>\n",
       "<tr><td>                          </td><td>Total</td><td>6 months</td><td>1 Year</td></tr>\n",
       "<tr><td>Interest Income           </td><td>220.0</td><td>110.0   </td><td>110.0 </td></tr>\n",
       "<tr><td>Interest Expense          </td><td>93.0 </td><td>75.0    </td><td>18.0  </td></tr>\n",
       "<tr><td>Net Interest Income/Margin</td><td>127.0</td><td>35.0    </td><td>92.0  </td></tr>\n",
       "</tbody>\n",
       "</table>"
      ],
      "text/plain": [
       "<IPython.core.display.HTML object>"
      ]
     },
     "metadata": {},
     "output_type": "display_data"
    }
   ],
   "source": [
    "# Rates\n",
    "Asset_returns=11\n",
    "Liabilities_cost=6\n",
    "NII_function(Asset_returns,Liabilities_cost)"
   ]
  },
  {
   "cell_type": "markdown",
   "metadata": {},
   "source": [
    "### Scenario 1, Impact of changes in Interest Rate. Asset rate decreases by 1%"
   ]
  },
  {
   "cell_type": "code",
   "execution_count": 160,
   "metadata": {},
   "outputs": [
    {
     "data": {
      "text/html": [
       "<table>\n",
       "<tbody>\n",
       "<tr><td>           </td><td>Total</td><td>0-6 months</td><td>6-12 months</td></tr>\n",
       "<tr><td>Assets     </td><td>2000 </td><td>1000.0    </td><td>1000.0     </td></tr>\n",
       "<tr><td>Liabilities</td><td>1550 </td><td>1250      </td><td>300        </td></tr>\n",
       "<tr><td>Equity/Gap </td><td>450  </td><td>-250.0    </td><td>700.0      </td></tr>\n",
       "</tbody>\n",
       "</table>"
      ],
      "text/plain": [
       "<IPython.core.display.HTML object>"
      ]
     },
     "metadata": {},
     "output_type": "display_data"
    },
    {
     "data": {
      "text/html": [
       "<table>\n",
       "<tbody>\n",
       "<tr><td>Base       </td><td>Interest(p.a)</td></tr>\n",
       "<tr><td>Assets     </td><td>11           </td></tr>\n",
       "<tr><td>Liabilities</td><td>6            </td></tr>\n",
       "</tbody>\n",
       "</table>"
      ],
      "text/plain": [
       "<IPython.core.display.HTML object>"
      ]
     },
     "metadata": {},
     "output_type": "display_data"
    },
    {
     "data": {
      "text/html": [
       "<table>\n",
       "<tbody>\n",
       "<tr><td>Scenario   </td><td>Reinvestment decreases by 1%</td></tr>\n",
       "<tr><td>Assets     </td><td>10                          </td></tr>\n",
       "<tr><td>Liabilities</td><td>6                           </td></tr>\n",
       "</tbody>\n",
       "</table>"
      ],
      "text/plain": [
       "<IPython.core.display.HTML object>"
      ]
     },
     "metadata": {},
     "output_type": "display_data"
    },
    {
     "data": {
      "text/html": [
       "<table>\n",
       "<tbody>\n",
       "<tr><td>                          </td><td>Total</td><td>6 months</td><td>1 Year</td></tr>\n",
       "<tr><td>Interest Income           </td><td>215.0</td><td>105.0   </td><td>110.0 </td></tr>\n",
       "<tr><td>Interest Expense          </td><td>93.0 </td><td>75.0    </td><td>18.0  </td></tr>\n",
       "<tr><td>Net Interest Income/Margin</td><td>122.0</td><td>30.0    </td><td>92.0  </td></tr>\n",
       "</tbody>\n",
       "</table>"
      ],
      "text/plain": [
       "<IPython.core.display.HTML object>"
      ]
     },
     "metadata": {},
     "output_type": "display_data"
    }
   ],
   "source": [
    "\n",
    "def NII_function2(Asset_Returns,Asset_change,Liabilities_Cost,Liabilities_change):\n",
    "    Liabilities_1=1250\n",
    "    Liabilities_2=300\n",
    "\n",
    "    Rate_sensitive_gap1=Asset/2-Liabilities_1\n",
    "    Rate_sensitive_gap2=Asset/2-Liabilities_2\n",
    "\n",
    "    table = [[\"\",\"Total\",\"0-6 months\",'6-12 months'],\n",
    "             [\"Assets\",Asset,Asset/2,Asset/2],\n",
    "             [\"Liabilities\",Liabilities,Liabilities_1,Liabilities_2],\n",
    "             [\"Equity/Gap\",Equity,Rate_sensitive_gap1,Rate_sensitive_gap2]]\n",
    "\n",
    "    display(HTML(tabulate.tabulate(table, tablefmt='html')))\n",
    "\n",
    "    table = [[\"Base\",\"Interest(p.a)\"],\n",
    "             [\"Assets\",Asset_Returns],\n",
    "             [\"Liabilities\",Liabilities_Cost]]\n",
    "\n",
    "    display(HTML(tabulate.tabulate(table, tablefmt='html')))\n",
    "\n",
    "    \n",
    "    table = [[\"Scenario\",\"Reinvestment decreases by 1%\"],\n",
    "     [\"Assets\",Asset_change],\n",
    "     [\"Liabilities\",Liabilities_change]]\n",
    "\n",
    "    display(HTML(tabulate.tabulate(table, tablefmt='html')))\n",
    "\n",
    "    InterestIncome6=Asset/2*Asset_Returns/200+Asset/2*Asset_change/200\n",
    "    InterestExpense6=Liabilities_1*Liabilities_Cost/200+Liabilities_1*Liabilities_change/200\n",
    "\n",
    "    InterestIncome1year=Asset/2*Asset_Returns/100\n",
    "    InterestExpense1year=Liabilities_2*Liabilities_Cost/100\n",
    "\n",
    "    InterestIncomeTotal=InterestIncome6+InterestIncome1year\n",
    "    InterestexpenseTotal=InterestExpense6+InterestExpense1year\n",
    "\n",
    "    table = [[\"\",\"Total\",\"6 months\",\"1 Year\"],\n",
    "        [\"Interest Income\",InterestIncomeTotal,InterestIncome6,InterestIncome1year],\n",
    "            [\"Interest Expense\",InterestexpenseTotal,InterestExpense6,InterestExpense1year],\n",
    "            [\"Net Interest Income/Margin\",\n",
    "             InterestIncomeTotal-InterestexpenseTotal,\n",
    "             InterestIncome6-InterestExpense6,\n",
    "            InterestIncome1year-InterestExpense1year]]\n",
    "\n",
    "    display(HTML(tabulate.tabulate(table, tablefmt='html')))\n",
    "\n",
    "# Rates\n",
    "Asset_returns=11\n",
    "Asset_change=10\n",
    "Liabilities_cost=6\n",
    "Liabilities_change=6\n",
    "NII_function2(Asset_returns,Asset_change,Liabilities_cost,Liabilities_change)\n"
   ]
  },
  {
   "cell_type": "markdown",
   "metadata": {},
   "source": [
    "### Scenario 2, Impact of changes in Interest Rate. Liability rate increases by 1%"
   ]
  },
  {
   "cell_type": "code",
   "execution_count": 161,
   "metadata": {},
   "outputs": [
    {
     "data": {
      "text/html": [
       "<table>\n",
       "<tbody>\n",
       "<tr><td>           </td><td>Total</td><td>0-6 months</td><td>6-12 months</td></tr>\n",
       "<tr><td>Assets     </td><td>2000 </td><td>1000.0    </td><td>1000.0     </td></tr>\n",
       "<tr><td>Liabilities</td><td>1550 </td><td>1250      </td><td>300        </td></tr>\n",
       "<tr><td>Equity/Gap </td><td>450  </td><td>-250.0    </td><td>700.0      </td></tr>\n",
       "</tbody>\n",
       "</table>"
      ],
      "text/plain": [
       "<IPython.core.display.HTML object>"
      ]
     },
     "metadata": {},
     "output_type": "display_data"
    },
    {
     "data": {
      "text/html": [
       "<table>\n",
       "<tbody>\n",
       "<tr><td>Base       </td><td>Interest(p.a)</td></tr>\n",
       "<tr><td>Assets     </td><td>11           </td></tr>\n",
       "<tr><td>Liabilities</td><td>6            </td></tr>\n",
       "</tbody>\n",
       "</table>"
      ],
      "text/plain": [
       "<IPython.core.display.HTML object>"
      ]
     },
     "metadata": {},
     "output_type": "display_data"
    },
    {
     "data": {
      "text/html": [
       "<table>\n",
       "<tbody>\n",
       "<tr><td>Scenario   </td><td>Reinvestment decreases by 1%</td></tr>\n",
       "<tr><td>Assets     </td><td>11                          </td></tr>\n",
       "<tr><td>Liabilities</td><td>7                           </td></tr>\n",
       "</tbody>\n",
       "</table>"
      ],
      "text/plain": [
       "<IPython.core.display.HTML object>"
      ]
     },
     "metadata": {},
     "output_type": "display_data"
    },
    {
     "data": {
      "text/html": [
       "<table>\n",
       "<tbody>\n",
       "<tr><td>                          </td><td>Total </td><td>6 months</td><td>1 Year</td></tr>\n",
       "<tr><td>Interest Income           </td><td>220.0 </td><td>110.0   </td><td>110.0 </td></tr>\n",
       "<tr><td>Interest Expense          </td><td>99.25 </td><td>81.25   </td><td>18.0  </td></tr>\n",
       "<tr><td>Net Interest Income/Margin</td><td>120.75</td><td>28.75   </td><td>92.0  </td></tr>\n",
       "</tbody>\n",
       "</table>"
      ],
      "text/plain": [
       "<IPython.core.display.HTML object>"
      ]
     },
     "metadata": {},
     "output_type": "display_data"
    }
   ],
   "source": [
    "# Reinvestment rates remain the same for Assets but the cost \n",
    "# of borrowing at the time of recurring the liability increases by 1%\n",
    "\n",
    "Asset_returns=11\n",
    "Asset_change=11\n",
    "Liabilities_cost=6\n",
    "Liabilities_change=7\n",
    "NII_function2(Asset_returns,Asset_change,Liabilities_cost,Liabilities_change)\n",
    "\n"
   ]
  },
  {
   "cell_type": "markdown",
   "metadata": {},
   "source": [
    "### Revised Net Income \n",
    "### 127, 122.0, 120.75, \n",
    "\n",
    "#### Key points\n",
    "#### 1) When assets re-price faster and rates rise, net interest income rises. When assets re-price faster and rates decline, net interest income declines.\n",
    "####  2)  When liabilities re-price faster and rates rise, net interest income declines. When liabilities re-price faster and rates decline, net interest income declines.\n",
    "####  3) In the 6 months bucket assets are 1000 million while deposits are 1,250 million. The net impact for deposits is greater. For this specific bucket net liabilities will re-price faster than assets. While in the next bucket, the 6 – 12 month maturity bucket, net assets will re-price faster.\n",
    "\n"
   ]
  },
  {
   "cell_type": "markdown",
   "metadata": {},
   "source": [
    "## <font color='Blue'>Example 3 : (MVE Analysis) Impact of Interest Change on Market Value of Equity</font>"
   ]
  },
  {
   "cell_type": "markdown",
   "metadata": {},
   "source": [
    "Impace of interest change on market value of shareholder's equity"
   ]
  },
  {
   "cell_type": "code",
   "execution_count": 152,
   "metadata": {},
   "outputs": [],
   "source": [
    "# Bank A\n",
    "def MVE_function(Asset_rate_6,Asset_rate_1,Liability_rate_6,Liability_rate_1):\n",
    "    Asset = 2000\n",
    "    Liabilities = 1550\n",
    "    Equity = Asset - Liabilities\n",
    "\n",
    "    Liabilities_1=1250\n",
    "    Liabilities_2=300\n",
    "\n",
    "    Rate_sensitive_gap1=Asset/2-Liabilities_1\n",
    "    Rate_sensitive_gap2=Asset/2-Liabilities_2\n",
    "\n",
    "    table = [[\"\",\"Total\",\"0-6 months\",'6-12 months'],\n",
    "             [\"Assets\",Asset,Asset/2,Asset/2],\n",
    "             [\"Liabilities\",Liabilities,Liabilities_1,Liabilities_2],\n",
    "             [\"Equity/Gap\",Equity,Rate_sensitive_gap1,Rate_sensitive_gap2]]\n",
    "\n",
    "    display(HTML(tabulate.tabulate(table, tablefmt='html')))\n",
    "\n",
    "\n",
    "\n",
    "    table = [[\"Rate Shock-1\",\"Total\",\"6 Months\",\"1 Year\"],\n",
    "             [\"Assets\",\"\",Asset_rate_6,Asset_rate_1],\n",
    "             [\"Liabilities\",\"\",Liability_rate_6,Liability_rate_1]]\n",
    "\n",
    "    display(HTML(tabulate.tabulate(table, tablefmt='html')))\n",
    "\n",
    "    Asset6=Asset/2*Asset_rate_6/100\n",
    "    Asset1=Asset/2*Asset_rate_1/100\n",
    "    Liability6=Liabilities_1*Liability_rate_6/100\n",
    "    Liability1=Liabilities_2*Liability_rate_1/100\n",
    "    Total_asset=Asset6+Asset1\n",
    "    Total_Liabilities=Liability6+Liability1\n",
    "    \n",
    "    table = [[\"Fall in MVE\",\"Total\",\"6 Months\",\"1 Year\"],\n",
    "             [\"Assets\",Total_asset,Asset6,Asset1],\n",
    "             [\"Liabilities\",Total_Liabilities,Liability6,Liability1],\n",
    "             [\"Equity\",Total_asset-Total_Liabilities,Asset6-Liability6,Asset1-Liability1]]\n",
    "\n",
    "    display(HTML(tabulate.tabulate(table, tablefmt='html')))\n",
    "\n",
    "    table = [[\"Value after Rate\",\"\"],\n",
    "            [\"Assets\",Asset-Total_asset],\n",
    "            [\"Liabilities\",Liabilities-Total_Liabilities],\n",
    "            [\"Equity\",Equity-(Total_asset-Total_Liabilities)]]\n",
    "\n",
    "    display(HTML(tabulate.tabulate(table, tablefmt='html')))\n",
    "\n",
    "\n",
    "\n"
   ]
  },
  {
   "cell_type": "code",
   "execution_count": 153,
   "metadata": {},
   "outputs": [
    {
     "data": {
      "text/html": [
       "<table>\n",
       "<tbody>\n",
       "<tr><td>           </td><td>Total</td><td>0-6 months</td><td>6-12 months</td></tr>\n",
       "<tr><td>Assets     </td><td>2000 </td><td>1000.0    </td><td>1000.0     </td></tr>\n",
       "<tr><td>Liabilities</td><td>1550 </td><td>1250      </td><td>300        </td></tr>\n",
       "<tr><td>Equity/Gap </td><td>450  </td><td>-250.0    </td><td>700.0      </td></tr>\n",
       "</tbody>\n",
       "</table>"
      ],
      "text/plain": [
       "<IPython.core.display.HTML object>"
      ]
     },
     "metadata": {},
     "output_type": "display_data"
    },
    {
     "data": {
      "text/html": [
       "<table>\n",
       "<tbody>\n",
       "<tr><td>Rate Shock-1</td><td>Total</td><td>6 Months</td><td>1 Year</td></tr>\n",
       "<tr><td>Assets      </td><td>     </td><td>0.5     </td><td>1     </td></tr>\n",
       "<tr><td>Liabilities </td><td>     </td><td>0.5     </td><td>1     </td></tr>\n",
       "</tbody>\n",
       "</table>"
      ],
      "text/plain": [
       "<IPython.core.display.HTML object>"
      ]
     },
     "metadata": {},
     "output_type": "display_data"
    },
    {
     "data": {
      "text/html": [
       "<table>\n",
       "<tbody>\n",
       "<tr><td>Fall in MVE</td><td>Total</td><td>6 Months</td><td>1 Year</td></tr>\n",
       "<tr><td>Assets     </td><td>15.0 </td><td>5.0     </td><td>10.0  </td></tr>\n",
       "<tr><td>Liabilities</td><td>9.25 </td><td>6.25    </td><td>3.0   </td></tr>\n",
       "<tr><td>Equity     </td><td>5.75 </td><td>-1.25   </td><td>7.0   </td></tr>\n",
       "</tbody>\n",
       "</table>"
      ],
      "text/plain": [
       "<IPython.core.display.HTML object>"
      ]
     },
     "metadata": {},
     "output_type": "display_data"
    },
    {
     "data": {
      "text/html": [
       "<table>\n",
       "<tbody>\n",
       "<tr><td>Value after Rate</td><td>       </td></tr>\n",
       "<tr><td>Assets          </td><td>1985.0 </td></tr>\n",
       "<tr><td>Liabilities     </td><td>1540.75</td></tr>\n",
       "<tr><td>Equity          </td><td>444.25 </td></tr>\n",
       "</tbody>\n",
       "</table>"
      ],
      "text/plain": [
       "<IPython.core.display.HTML object>"
      ]
     },
     "metadata": {},
     "output_type": "display_data"
    }
   ],
   "source": [
    "MVE_function(0.5,1,0.5,1)\n"
   ]
  },
  {
   "cell_type": "markdown",
   "metadata": {},
   "source": [
    "#### Shareholders equity is now down to $444.25 million "
   ]
  },
  {
   "cell_type": "markdown",
   "metadata": {},
   "source": [
    "# <font color='Red'>Modelling Earnings at Risk</font>"
   ]
  },
  {
   "cell_type": "markdown",
   "metadata": {},
   "source": [
    "### * Earnings at risk is computed in order to evaluate the impact of interest rate change on earnings. \n",
    "### * Approach used is a VaR based approach that takes into account non-parallel shifts in the term structure and its impact on the earnings portfolio of the bank.\n",
    "### * We take only those items which are interest sensitives and generate income or cash flow\n"
   ]
  },
  {
   "cell_type": "markdown",
   "metadata": {},
   "source": [
    "### <font color=\"blue\">Step 1:</font> Data collection and finding returns."
   ]
  },
  {
   "cell_type": "code",
   "execution_count": 166,
   "metadata": {},
   "outputs": [
    {
     "data": {
      "image/png": "[encoded data removed]",
      "text/plain": [
       "<IPython.core.display.Image object>"
      ]
     },
     "execution_count": 166,
     "metadata": {},
     "output_type": "execute_result"
    }
   ],
   "source": [
    "from IPython.display import Image\n",
    "Image(filename='Image1.png')\n"
   ]
  },
  {
   "cell_type": "code",
   "execution_count": 170,
   "metadata": {},
   "outputs": [],
   "source": [
    "import pandas as pd\n",
    "data=pd.read_csv(\"Data.csv\",delimiter=',')\n",
    "data.index=data.Date.apply(lambda x: pd.to_datetime(str(x), format='%Y%m%d'))\n",
    "data= data.drop('Date',1)\n",
    "\n",
    "returns=((dataclose/dataclose.shift(1)-1)*100)[1:]"
   ]
  },
  {
   "cell_type": "code",
   "execution_count": null,
   "metadata": {},
   "outputs": [],
   "source": []
  }
 ],
 "metadata": {
  "kernelspec": {
   "display_name": "Python 3",
   "language": "python",
   "name": "python3"
  },
  "language_info": {
   "codemirror_mode": {
    "name": "ipython",
    "version": 3
   },
   "file_extension": ".py",
   "mimetype": "text/x-python",
   "name": "python",
   "nbconvert_exporter": "python",
   "pygments_lexer": "ipython3",
   "version": "3.6.8"
  }
 },
 "nbformat": 4,
 "nbformat_minor": 2
}
